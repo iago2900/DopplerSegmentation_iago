{
 "cells": [
  {
   "cell_type": "code",
   "execution_count": 3,
   "metadata": {},
   "outputs": [],
   "source": [
    "# IMPORT LIBRARIES\n",
    "\n",
    "import torch\n",
    "import sak\n",
    "import pickle\n",
    "import cv2\n",
    "import sak.torch.image.data\n",
    "import matplotlib.pyplot as plt\n",
    "import cv2\n",
    "import numpy as np\n",
    "import pydicom\n",
    "import sak\n",
    "import glob\n",
    "import os.path\n",
    "import src.load_data\n",
    "import scipy as sp\n",
    "import math\n",
    "import skimage.transform\n",
    "import sak.torch.image.data.augmentation"
   ]
  },
  {
   "cell_type": "code",
   "execution_count": 25,
   "metadata": {},
   "outputs": [],
   "source": [
    "### FUNCTIONS\n",
    "\n",
    "def create_mask(x, gt_x, gt_y, line_width, x0):\n",
    "    '''\n",
    "    Create the binary mask from the GT, OJO with the line_width\n",
    "    '''\n",
    "    # CREATE MASK AND TILE\n",
    "    min_size_x = 512\n",
    "    window = 4\n",
    "    sigma = 1.0\n",
    "\n",
    "    # Boolean mask from the reference line to the curve position            #\n",
    "    '''\n",
    "    \n",
    "    mask = np.zeros(x.shape[:2], dtype = bool)\n",
    "    for ix,iy in zip(gt_x,gt_y):\n",
    "\n",
    "        ix,iy = int(round(ix)),int(round(iy)) # map to int (pixel position)\n",
    "        if iy > yref:\n",
    "            if yref < 0: # No reference line is depicted in the image\n",
    "                mask[:iy,ix] = 1\n",
    "            else:        # Current pixel above the reference line\n",
    "                mask[yref:iy,ix] = 1\n",
    "        elif iy < yref:  # Current pixel below the reference line\n",
    "            mask[iy:yref,ix] = 1\n",
    "        else:            # Current pixel  *IN* the reference line\n",
    "            mask[iy,ix] = 1\n",
    "    \n",
    "    \n",
    "    '''\n",
    "    mask = np.zeros(x.shape[:2],dtype=bool)\n",
    "\n",
    "    gt_x_full = gt_x.copy()\n",
    "    gt_y_full = gt_y.copy()\n",
    "    for i in range(gt_x.shape[0]-1):\n",
    "        if gt_y[i+1]>gt_y[i]:\n",
    "            s = 1\n",
    "        else:\n",
    "            s = -1\n",
    "        for y in range(gt_y[i]+1,gt_y[i+1],s):\n",
    "            gt_x_full = np.insert(gt_x_full,i+1,gt_x[i])\n",
    "            gt_y_full = np.insert(gt_y_full,i+1,y)\n",
    "    for i in range(-line_width//2,line_width//2):\n",
    "        for j in range(-line_width//2,line_width//2):\n",
    "            mask[gt_y_full+i,gt_x_full-x0+j] = 1\n",
    "    \n",
    "    #                                                                       #\n",
    "    ####################### CHOOSING A REPRESENTATION #######################\n",
    "\n",
    "    # Crop image and ground truth so that it only represents GT span\n",
    "    doppler_cropped         = x[:,gt_x-x0]\n",
    "    mask_cropped            =    mask[:,gt_x-x0]\n",
    "\n",
    "    # Repeat alongside x axis (2nd dimension to have at least min_size_x size)\n",
    "    try:\n",
    "        repetitions      = math.ceil(min_size_x/doppler_cropped.shape[1])\n",
    "        envelope_y_tiled = np.concatenate(     [gt_y]*repetitions)\n",
    "        mask_tiled       = np.concatenate(   [mask_cropped]*repetitions,axis=1)\n",
    "        doppler_tiled    = np.concatenate([doppler_cropped]*repetitions,axis=1)\n",
    "    except ZeroDivisionError:\n",
    "        pass\n",
    "\n",
    "    # Apply gaussian filter to smooth borders of tiling\n",
    "    size_fundamental = doppler_tiled.shape[1]//repetitions\n",
    "    locations = [(i+1)*size_fundamental-1 for i in range(repetitions-1)]\n",
    "    for loc in locations:\n",
    "        onset = loc-window+1\n",
    "        offset = loc+window\n",
    "        doppler_tiled[:,onset:offset] = sp.ndimage.gaussian_filter1d(\n",
    "            doppler_tiled[:,onset:offset],sigma,axis=1\n",
    "        )\n",
    "\n",
    "    return doppler_tiled, mask_tiled, mask\n",
    "\n",
    "def interpolar_crop(x, mask_tiled, doppler_tiled):\n",
    "\n",
    "    # hay que interpolar, es decir recortar el eje x para que al hacer reshape no se distorsione\n",
    "    shape = (256,512)\n",
    "    # quiero que sea 256x512\n",
    "    proporcion = shape[1] // shape[0]\n",
    "    x_side = x.shape[0]*proporcion\n",
    "    doppler_tiled_side = doppler_tiled.shape[0]*proporcion\n",
    "    mask_tiled_side = mask_tiled.shape[0]*proporcion\n",
    "\n",
    "    # cropping:\n",
    "    x = x[:,0:x_side]\n",
    "    x = cv2.resize(x,(512,256))[None,]\n",
    "    x = x.squeeze()\n",
    "\n",
    "    doppler_tiled = doppler_tiled[:,0:doppler_tiled_side]\n",
    "    doppler_tiled = cv2.resize(doppler_tiled,(512,256))[None,]\n",
    "    doppler_tiled = doppler_tiled.squeeze()\n",
    "\n",
    "    mask_tiled = mask_tiled[:,0:mask_tiled_side]\n",
    "    mask_tiled = skimage.transform.resize(mask_tiled,(256,512))[None,]\n",
    "    mask_tiled = mask_tiled.squeeze()\n",
    "\n",
    "    return x, doppler_tiled, mask_tiled\n",
    "\n",
    "def get_output(x, model):\n",
    "\n",
    "    x_torch = torch.tensor(x)[None,None]\n",
    "\n",
    "    inputs = {'x' : x_torch.float()}\n",
    "\n",
    "    sak.torch.image.data.augmentation.RescaleIntensity(inputs)\n",
    "\n",
    "    with torch.no_grad():\n",
    "        output = model(inputs)\n",
    "        out_numpy = output['sigmoid'].cpu().detach().numpy().squeeze()\n",
    "\n",
    "        return out_numpy[2,:,:]\n",
    "\n",
    "### METRICS\n",
    "\n",
    "def dice(inputs, targets, smooth=1):\n",
    "    #flatten label and prediction tensors\n",
    "    inputs = inputs.flatten()\n",
    "    targets = targets.flatten()\n",
    "    \n",
    "    intersection = (inputs * targets).sum()                            \n",
    "    dice = (2.*intersection + smooth)/(inputs.sum() + targets.sum() + smooth)  \n",
    "    \n",
    "    return dice"
   ]
  },
  {
   "cell_type": "code",
   "execution_count": 5,
   "metadata": {},
   "outputs": [
    {
     "data": {
      "text/plain": [
       "ModelWrapper(\n",
       "  (operation): wnet(\n",
       "    (encoder): basenet(\n",
       "      (e0): encoder_block(\n",
       "        (conv): conv_block(\n",
       "          (conv0): Conv2d(1, 64, kernel_size=(3, 3), stride=(1, 1), padding=(1, 1))\n",
       "          (relu0): ReLU()\n",
       "          (bn0): BatchNorm2d(64, eps=1e-05, momentum=0.1, affine=True, track_running_stats=True)\n",
       "          (dropout0): Dropout(p=0.25, inplace=False)\n",
       "          (relu1): ReLU()\n",
       "          (bn1): BatchNorm2d(64, eps=1e-05, momentum=0.1, affine=True, track_running_stats=True)\n",
       "          (dropout1): Dropout(p=0.25, inplace=False)\n",
       "          (conv1): Conv2d(64, 64, kernel_size=(3, 3), stride=(1, 1), padding=(1, 1))\n",
       "        )\n",
       "        (pool): MaxPool2d(kernel_size=(2, 2), stride=(2, 2), padding=0, dilation=1, ceil_mode=False)\n",
       "      )\n",
       "      (e1): encoder_block(\n",
       "        (conv): conv_block(\n",
       "          (conv0): Conv2d(64, 128, kernel_size=(3, 3), stride=(1, 1), padding=(1, 1))\n",
       "          (relu0): ReLU()\n",
       "          (bn0): BatchNorm2d(128, eps=1e-05, momentum=0.1, affine=True, track_running_stats=True)\n",
       "          (dropout0): Dropout(p=0.25, inplace=False)\n",
       "          (relu1): ReLU()\n",
       "          (bn1): BatchNorm2d(128, eps=1e-05, momentum=0.1, affine=True, track_running_stats=True)\n",
       "          (dropout1): Dropout(p=0.25, inplace=False)\n",
       "          (conv1): Conv2d(128, 128, kernel_size=(3, 3), stride=(1, 1), padding=(1, 1))\n",
       "        )\n",
       "        (pool): MaxPool2d(kernel_size=(2, 2), stride=(2, 2), padding=0, dilation=1, ceil_mode=False)\n",
       "      )\n",
       "      (e2): encoder_block(\n",
       "        (conv): conv_block(\n",
       "          (conv0): Conv2d(128, 256, kernel_size=(3, 3), stride=(1, 1), padding=(1, 1))\n",
       "          (relu0): ReLU()\n",
       "          (bn0): BatchNorm2d(256, eps=1e-05, momentum=0.1, affine=True, track_running_stats=True)\n",
       "          (dropout0): Dropout(p=0.25, inplace=False)\n",
       "          (relu1): ReLU()\n",
       "          (bn1): BatchNorm2d(256, eps=1e-05, momentum=0.1, affine=True, track_running_stats=True)\n",
       "          (dropout1): Dropout(p=0.25, inplace=False)\n",
       "          (conv1): Conv2d(256, 256, kernel_size=(3, 3), stride=(1, 1), padding=(1, 1))\n",
       "        )\n",
       "        (pool): MaxPool2d(kernel_size=(2, 2), stride=(2, 2), padding=0, dilation=1, ceil_mode=False)\n",
       "      )\n",
       "      (e3): encoder_block(\n",
       "        (conv): conv_block(\n",
       "          (conv0): Conv2d(256, 512, kernel_size=(3, 3), stride=(1, 1), padding=(1, 1))\n",
       "          (relu0): ReLU()\n",
       "          (bn0): BatchNorm2d(512, eps=1e-05, momentum=0.1, affine=True, track_running_stats=True)\n",
       "          (dropout0): Dropout(p=0.25, inplace=False)\n",
       "          (relu1): ReLU()\n",
       "          (bn1): BatchNorm2d(512, eps=1e-05, momentum=0.1, affine=True, track_running_stats=True)\n",
       "          (dropout1): Dropout(p=0.25, inplace=False)\n",
       "          (conv1): Conv2d(512, 512, kernel_size=(3, 3), stride=(1, 1), padding=(1, 1))\n",
       "        )\n",
       "        (pool): MaxPool2d(kernel_size=(2, 2), stride=(2, 2), padding=0, dilation=1, ceil_mode=False)\n",
       "      )\n",
       "      (b): conv_block(\n",
       "        (conv0): Conv2d(512, 1024, kernel_size=(3, 3), stride=(1, 1), padding=(1, 1))\n",
       "        (relu0): ReLU()\n",
       "        (bn0): BatchNorm2d(1024, eps=1e-05, momentum=0.1, affine=True, track_running_stats=True)\n",
       "        (dropout0): Dropout(p=0.25, inplace=False)\n",
       "        (relu1): ReLU()\n",
       "        (bn1): BatchNorm2d(1024, eps=1e-05, momentum=0.1, affine=True, track_running_stats=True)\n",
       "        (dropout1): Dropout(p=0.25, inplace=False)\n",
       "        (conv1): Conv2d(1024, 1024, kernel_size=(3, 3), stride=(1, 1), padding=(1, 1))\n",
       "      )\n",
       "      (d0): decoder_block(\n",
       "        (up): ConvTranspose2d(1024, 512, kernel_size=(2, 2), stride=(2, 2))\n",
       "        (conv): conv_block(\n",
       "          (conv0): Conv2d(1024, 512, kernel_size=(3, 3), stride=(1, 1), padding=(1, 1))\n",
       "          (relu0): ReLU()\n",
       "          (bn0): BatchNorm2d(512, eps=1e-05, momentum=0.1, affine=True, track_running_stats=True)\n",
       "          (dropout0): Dropout(p=0.25, inplace=False)\n",
       "          (relu1): ReLU()\n",
       "          (bn1): BatchNorm2d(512, eps=1e-05, momentum=0.1, affine=True, track_running_stats=True)\n",
       "          (dropout1): Dropout(p=0.25, inplace=False)\n",
       "          (conv1): Conv2d(512, 512, kernel_size=(3, 3), stride=(1, 1), padding=(1, 1))\n",
       "        )\n",
       "      )\n",
       "      (d1): decoder_block(\n",
       "        (up): ConvTranspose2d(512, 256, kernel_size=(2, 2), stride=(2, 2))\n",
       "        (conv): conv_block(\n",
       "          (conv0): Conv2d(512, 256, kernel_size=(3, 3), stride=(1, 1), padding=(1, 1))\n",
       "          (relu0): ReLU()\n",
       "          (bn0): BatchNorm2d(256, eps=1e-05, momentum=0.1, affine=True, track_running_stats=True)\n",
       "          (dropout0): Dropout(p=0.25, inplace=False)\n",
       "          (relu1): ReLU()\n",
       "          (bn1): BatchNorm2d(256, eps=1e-05, momentum=0.1, affine=True, track_running_stats=True)\n",
       "          (dropout1): Dropout(p=0.25, inplace=False)\n",
       "          (conv1): Conv2d(256, 256, kernel_size=(3, 3), stride=(1, 1), padding=(1, 1))\n",
       "        )\n",
       "      )\n",
       "      (d2): decoder_block(\n",
       "        (up): ConvTranspose2d(256, 128, kernel_size=(2, 2), stride=(2, 2))\n",
       "        (conv): conv_block(\n",
       "          (conv0): Conv2d(256, 128, kernel_size=(3, 3), stride=(1, 1), padding=(1, 1))\n",
       "          (relu0): ReLU()\n",
       "          (bn0): BatchNorm2d(128, eps=1e-05, momentum=0.1, affine=True, track_running_stats=True)\n",
       "          (dropout0): Dropout(p=0.25, inplace=False)\n",
       "          (relu1): ReLU()\n",
       "          (bn1): BatchNorm2d(128, eps=1e-05, momentum=0.1, affine=True, track_running_stats=True)\n",
       "          (dropout1): Dropout(p=0.25, inplace=False)\n",
       "          (conv1): Conv2d(128, 128, kernel_size=(3, 3), stride=(1, 1), padding=(1, 1))\n",
       "        )\n",
       "      )\n",
       "      (d3): decoder_block(\n",
       "        (up): ConvTranspose2d(128, 64, kernel_size=(2, 2), stride=(2, 2))\n",
       "        (conv): conv_block(\n",
       "          (conv0): Conv2d(128, 64, kernel_size=(3, 3), stride=(1, 1), padding=(1, 1))\n",
       "          (relu0): ReLU()\n",
       "          (bn0): BatchNorm2d(64, eps=1e-05, momentum=0.1, affine=True, track_running_stats=True)\n",
       "          (dropout0): Dropout(p=0.25, inplace=False)\n",
       "          (relu1): ReLU()\n",
       "          (bn1): BatchNorm2d(64, eps=1e-05, momentum=0.1, affine=True, track_running_stats=True)\n",
       "          (dropout1): Dropout(p=0.25, inplace=False)\n",
       "          (conv1): Conv2d(64, 64, kernel_size=(3, 3), stride=(1, 1), padding=(1, 1))\n",
       "        )\n",
       "      )\n",
       "    )\n",
       "    (softmax): Softmax(dim=None)\n",
       "    (decoder): basenet(\n",
       "      (e0): encoder_block(\n",
       "        (conv): conv_block(\n",
       "          (conv0): Conv2d(64, 64, kernel_size=(3, 3), stride=(1, 1), padding=(1, 1))\n",
       "          (relu0): ReLU()\n",
       "          (bn0): BatchNorm2d(64, eps=1e-05, momentum=0.1, affine=True, track_running_stats=True)\n",
       "          (dropout0): Dropout(p=0.25, inplace=False)\n",
       "          (relu1): ReLU()\n",
       "          (bn1): BatchNorm2d(64, eps=1e-05, momentum=0.1, affine=True, track_running_stats=True)\n",
       "          (dropout1): Dropout(p=0.25, inplace=False)\n",
       "          (conv1): Conv2d(64, 64, kernel_size=(3, 3), stride=(1, 1), padding=(1, 1))\n",
       "        )\n",
       "        (pool): MaxPool2d(kernel_size=(2, 2), stride=(2, 2), padding=0, dilation=1, ceil_mode=False)\n",
       "      )\n",
       "      (e1): encoder_block(\n",
       "        (conv): conv_block(\n",
       "          (conv0): Conv2d(64, 128, kernel_size=(3, 3), stride=(1, 1), padding=(1, 1))\n",
       "          (relu0): ReLU()\n",
       "          (bn0): BatchNorm2d(128, eps=1e-05, momentum=0.1, affine=True, track_running_stats=True)\n",
       "          (dropout0): Dropout(p=0.25, inplace=False)\n",
       "          (relu1): ReLU()\n",
       "          (bn1): BatchNorm2d(128, eps=1e-05, momentum=0.1, affine=True, track_running_stats=True)\n",
       "          (dropout1): Dropout(p=0.25, inplace=False)\n",
       "          (conv1): Conv2d(128, 128, kernel_size=(3, 3), stride=(1, 1), padding=(1, 1))\n",
       "        )\n",
       "        (pool): MaxPool2d(kernel_size=(2, 2), stride=(2, 2), padding=0, dilation=1, ceil_mode=False)\n",
       "      )\n",
       "      (e2): encoder_block(\n",
       "        (conv): conv_block(\n",
       "          (conv0): Conv2d(128, 256, kernel_size=(3, 3), stride=(1, 1), padding=(1, 1))\n",
       "          (relu0): ReLU()\n",
       "          (bn0): BatchNorm2d(256, eps=1e-05, momentum=0.1, affine=True, track_running_stats=True)\n",
       "          (dropout0): Dropout(p=0.25, inplace=False)\n",
       "          (relu1): ReLU()\n",
       "          (bn1): BatchNorm2d(256, eps=1e-05, momentum=0.1, affine=True, track_running_stats=True)\n",
       "          (dropout1): Dropout(p=0.25, inplace=False)\n",
       "          (conv1): Conv2d(256, 256, kernel_size=(3, 3), stride=(1, 1), padding=(1, 1))\n",
       "        )\n",
       "        (pool): MaxPool2d(kernel_size=(2, 2), stride=(2, 2), padding=0, dilation=1, ceil_mode=False)\n",
       "      )\n",
       "      (e3): encoder_block(\n",
       "        (conv): conv_block(\n",
       "          (conv0): Conv2d(256, 512, kernel_size=(3, 3), stride=(1, 1), padding=(1, 1))\n",
       "          (relu0): ReLU()\n",
       "          (bn0): BatchNorm2d(512, eps=1e-05, momentum=0.1, affine=True, track_running_stats=True)\n",
       "          (dropout0): Dropout(p=0.25, inplace=False)\n",
       "          (relu1): ReLU()\n",
       "          (bn1): BatchNorm2d(512, eps=1e-05, momentum=0.1, affine=True, track_running_stats=True)\n",
       "          (dropout1): Dropout(p=0.25, inplace=False)\n",
       "          (conv1): Conv2d(512, 512, kernel_size=(3, 3), stride=(1, 1), padding=(1, 1))\n",
       "        )\n",
       "        (pool): MaxPool2d(kernel_size=(2, 2), stride=(2, 2), padding=0, dilation=1, ceil_mode=False)\n",
       "      )\n",
       "      (b): conv_block(\n",
       "        (conv0): Conv2d(512, 1024, kernel_size=(3, 3), stride=(1, 1), padding=(1, 1))\n",
       "        (relu0): ReLU()\n",
       "        (bn0): BatchNorm2d(1024, eps=1e-05, momentum=0.1, affine=True, track_running_stats=True)\n",
       "        (dropout0): Dropout(p=0.25, inplace=False)\n",
       "        (relu1): ReLU()\n",
       "        (bn1): BatchNorm2d(1024, eps=1e-05, momentum=0.1, affine=True, track_running_stats=True)\n",
       "        (dropout1): Dropout(p=0.25, inplace=False)\n",
       "        (conv1): Conv2d(1024, 1024, kernel_size=(3, 3), stride=(1, 1), padding=(1, 1))\n",
       "      )\n",
       "      (d0): decoder_block(\n",
       "        (up): ConvTranspose2d(1024, 512, kernel_size=(2, 2), stride=(2, 2))\n",
       "        (conv): conv_block(\n",
       "          (conv0): Conv2d(1024, 512, kernel_size=(3, 3), stride=(1, 1), padding=(1, 1))\n",
       "          (relu0): ReLU()\n",
       "          (bn0): BatchNorm2d(512, eps=1e-05, momentum=0.1, affine=True, track_running_stats=True)\n",
       "          (dropout0): Dropout(p=0.25, inplace=False)\n",
       "          (relu1): ReLU()\n",
       "          (bn1): BatchNorm2d(512, eps=1e-05, momentum=0.1, affine=True, track_running_stats=True)\n",
       "          (dropout1): Dropout(p=0.25, inplace=False)\n",
       "          (conv1): Conv2d(512, 512, kernel_size=(3, 3), stride=(1, 1), padding=(1, 1))\n",
       "        )\n",
       "      )\n",
       "      (d1): decoder_block(\n",
       "        (up): ConvTranspose2d(512, 256, kernel_size=(2, 2), stride=(2, 2))\n",
       "        (conv): conv_block(\n",
       "          (conv0): Conv2d(512, 256, kernel_size=(3, 3), stride=(1, 1), padding=(1, 1))\n",
       "          (relu0): ReLU()\n",
       "          (bn0): BatchNorm2d(256, eps=1e-05, momentum=0.1, affine=True, track_running_stats=True)\n",
       "          (dropout0): Dropout(p=0.25, inplace=False)\n",
       "          (relu1): ReLU()\n",
       "          (bn1): BatchNorm2d(256, eps=1e-05, momentum=0.1, affine=True, track_running_stats=True)\n",
       "          (dropout1): Dropout(p=0.25, inplace=False)\n",
       "          (conv1): Conv2d(256, 256, kernel_size=(3, 3), stride=(1, 1), padding=(1, 1))\n",
       "        )\n",
       "      )\n",
       "      (d2): decoder_block(\n",
       "        (up): ConvTranspose2d(256, 128, kernel_size=(2, 2), stride=(2, 2))\n",
       "        (conv): conv_block(\n",
       "          (conv0): Conv2d(256, 128, kernel_size=(3, 3), stride=(1, 1), padding=(1, 1))\n",
       "          (relu0): ReLU()\n",
       "          (bn0): BatchNorm2d(128, eps=1e-05, momentum=0.1, affine=True, track_running_stats=True)\n",
       "          (dropout0): Dropout(p=0.25, inplace=False)\n",
       "          (relu1): ReLU()\n",
       "          (bn1): BatchNorm2d(128, eps=1e-05, momentum=0.1, affine=True, track_running_stats=True)\n",
       "          (dropout1): Dropout(p=0.25, inplace=False)\n",
       "          (conv1): Conv2d(128, 128, kernel_size=(3, 3), stride=(1, 1), padding=(1, 1))\n",
       "        )\n",
       "      )\n",
       "      (d3): decoder_block(\n",
       "        (up): ConvTranspose2d(128, 64, kernel_size=(2, 2), stride=(2, 2))\n",
       "        (conv): conv_block(\n",
       "          (conv0): Conv2d(128, 64, kernel_size=(3, 3), stride=(1, 1), padding=(1, 1))\n",
       "          (relu0): ReLU()\n",
       "          (bn0): BatchNorm2d(64, eps=1e-05, momentum=0.1, affine=True, track_running_stats=True)\n",
       "          (dropout0): Dropout(p=0.25, inplace=False)\n",
       "          (relu1): ReLU()\n",
       "          (bn1): BatchNorm2d(64, eps=1e-05, momentum=0.1, affine=True, track_running_stats=True)\n",
       "          (dropout1): Dropout(p=0.25, inplace=False)\n",
       "          (conv1): Conv2d(64, 64, kernel_size=(3, 3), stride=(1, 1), padding=(1, 1))\n",
       "        )\n",
       "      )\n",
       "    )\n",
       "    (outputs): Conv2d(64, 3, kernel_size=(1, 1), stride=(1, 1))\n",
       "    (sigmoid): Sigmoid()\n",
       "  )\n",
       ")"
      ]
     },
     "execution_count": 5,
     "metadata": {},
     "output_type": "execute_result"
    }
   ],
   "source": [
    "# LOAD THE MODEL\n",
    "\n",
    "model = torch.load('C:/Users/hp240/Documents/IAGO/EBM/TFG/TrainedModels/29/model_best.model')\n",
    "model.state_dict()\n",
    "model.eval()"
   ]
  },
  {
   "cell_type": "code",
   "execution_count": 7,
   "metadata": {},
   "outputs": [],
   "source": [
    "# LOAD TEST SET\n",
    "with open(\"C:/Users/hp240/Documents/IAGO/EBM/TFG/TrainedModels/29/execution_info.pkl\", \"rb\") as f:\n",
    "    keys_test = pickle.load(f)[\"keys_test\"]"
   ]
  },
  {
   "cell_type": "code",
   "execution_count": 27,
   "metadata": {},
   "outputs": [
    {
     "name": "stderr",
     "output_type": "stream",
     "text": [
      "c:\\Users\\hp240\\Documents\\IAGO\\EBM\\TFG\\DopplerSegmentation_repository\\src\\models.py:180: UserWarning: Implicit dimension choice for softmax has been deprecated. Change the call to include dim=X as an argument.\n",
      "  x = self.softmax(x)\n"
     ]
    },
    {
     "data": {
      "text/plain": [
       "0.31925633599672054"
      ]
     },
     "execution_count": 27,
     "metadata": {},
     "output_type": "execute_result"
    }
   ],
   "source": [
    "# LOAD DATA FROM TEST SET\n",
    "\n",
    "datadir = 'C:\\\\Users\\\\hp240\\\\Documents\\\\IAGO\\\\EBM\\\\TFG\\\\ALL_DOPPLER\\\\'\n",
    "\n",
    "curves_x = sak.load_data(os.path.join(datadir,\"x_coordinates.csv\"))\n",
    "curves_y = sak.load_data(os.path.join(datadir,\"y_coordinates.csv\"))\n",
    "\n",
    "data = [datadir+i for i in keys_test]\n",
    "curves_x_test = {i:curves_x[i] for i in keys_test}\n",
    "curves_y_test = {i:curves_y[i] for i in keys_test}\n",
    "\n",
    "dice_list = []\n",
    "\n",
    "data_2 = data[:1]\n",
    "\n",
    "for image in data_2:\n",
    "\n",
    "    dicom = pydicom.dcmread(image)\n",
    "\n",
    "    x0,x1,y0,y1,xref,yref,deltax,deltay,unitsx,unitsy = src.load_data.get_frame(dicom,\"doppler\")\n",
    "\n",
    "    x = dicom.pixel_array.copy()[y0:y1,x0:x1,]\n",
    "    if dicom.get(\"PhotometricInterpretation\", \"RGB\") in ['YBR_FULL', 'YBR_FULL_422']:\n",
    "        x = src.load_data.convert_ybr_to_rgb(x)\n",
    "    x = x[...,0] # to grayscale\n",
    "    gt_x = curves_x_test[dicom.SOPInstanceUID] -x0\n",
    "    gt_y = curves_y_test[dicom.SOPInstanceUID]\n",
    "\n",
    "    doppler_tiled, mask_tiled, mask = create_mask(x, gt_x, gt_y, line_width = 40, x0=x0)\n",
    "    x, doppler_tiled_2, mask_tiled_2 = interpolar_crop(x, mask_tiled, doppler_tiled)\n",
    "    out_numpy = get_output(x, model)\n",
    "    dice_list.append(dice(out_numpy, mask_tiled_2, smooth=1))\n",
    "\n",
    "np.mean(dice_list)"
   ]
  },
  {
   "cell_type": "markdown",
   "metadata": {},
   "source": [
    "------ "
   ]
  },
  {
   "cell_type": "code",
   "execution_count": 23,
   "metadata": {},
   "outputs": [],
   "source": [
    "\n",
    "dicom = pydicom.dcmread(data[0])\n",
    "\n",
    "x0,x1,y0,y1,xref,yref,deltax,deltay,unitsx,unitsy = src.load_data.get_frame(dicom,\"doppler\")\n",
    "\n",
    "x = dicom.pixel_array.copy()[y0:y1,x0:x1,]\n",
    "if dicom.get(\"PhotometricInterpretation\", \"RGB\") in ['YBR_FULL', 'YBR_FULL_422']:\n",
    "    x = src.load_data.convert_ybr_to_rgb(x)\n",
    "x = x[...,0] # to grayscale\n",
    "gt_x = curves_x_test[dicom.SOPInstanceUID] -x0\n",
    "gt_y = curves_y_test[dicom.SOPInstanceUID]\n",
    "\n",
    "doppler_tiled, mask_tiled, mask = create_mask(x, gt_x, gt_y, line_width =20, x0=x0)\n",
    "x, doppler_tiled_2, mask_tiled_2 = interpolar_crop(x, mask_tiled, doppler_tiled)\n",
    "out_numpy = get_output(x, model)\n",
    "dice_list.append(dice(out_numpy, mask_tiled_2, smooth=1))\n",
    "\n"
   ]
  },
  {
   "cell_type": "code",
   "execution_count": 10,
   "metadata": {},
   "outputs": [
    {
     "data": {
      "text/plain": [
       "<matplotlib.image.AxesImage at 0x1c58450cc40>"
      ]
     },
     "execution_count": 10,
     "metadata": {},
     "output_type": "execute_result"
    },
    {
     "data": {
      "image/png": "[encoded data removed]",
      "text/plain": [
       "<Figure size 432x288 with 1 Axes>"
      ]
     },
     "metadata": {
      "needs_background": "light"
     },
     "output_type": "display_data"
    }
   ],
   "source": [
    "plt.imshow(mask_tiled_2)"
   ]
  },
  {
   "cell_type": "code",
   "execution_count": 11,
   "metadata": {},
   "outputs": [],
   "source": [
    "## SIGUE DANDO RARO, EL PROBLEMA ESTA AQUÍ... creo que hay que fijarse en como hago la mask, y deshacerla desde ahi ##\n",
    "\n",
    "vector = []\n",
    "idxs = []\n",
    "\n",
    "for i in range(mask_tiled.shape[1]):\n",
    "    col = mask_tiled[:,i]\n",
    "    tmp = False\n",
    "    for idx, val in enumerate(col):\n",
    "        if val != tmp:\n",
    "            idxs.append(idx)\n",
    "        tmp = val\n",
    "    # miro si he encontrado o son todo 0:\n",
    "    if len(idxs) == 0:\n",
    "        idxs = [0,0]\n",
    "\n",
    "    # salgo de la columna y calculo el valor:\n",
    "    vector.append(sum(idxs)/2)\n",
    "\n",
    "    idxs = []"
   ]
  },
  {
   "cell_type": "code",
   "execution_count": 12,
   "metadata": {},
   "outputs": [
    {
     "data": {
      "text/plain": [
       "[<matplotlib.lines.Line2D at 0x1c5845e63a0>]"
      ]
     },
     "execution_count": 12,
     "metadata": {},
     "output_type": "execute_result"
    },
    {
     "data": {
      "image/png": "[encoded data removed]",
      "text/plain": [
       "<Figure size 432x288 with 1 Axes>"
      ]
     },
     "metadata": {
      "needs_background": "light"
     },
     "output_type": "display_data"
    }
   ],
   "source": [
    "for ind, i in enumerate(vector):\n",
    "    if i ==0:\n",
    "        vector[ind] = None\n",
    "\n",
    "plt.imshow(mask_tiled)\n",
    "plt.plot(vector)"
   ]
  },
  {
   "cell_type": "code",
   "execution_count": 13,
   "metadata": {},
   "outputs": [
    {
     "data": {
      "text/plain": [
       "<matplotlib.image.AxesImage at 0x1c584669070>"
      ]
     },
     "execution_count": 13,
     "metadata": {},
     "output_type": "execute_result"
    },
    {
     "data": {
      "image/png": "[encoded data removed]",
      "text/plain": [
       "<Figure size 432x288 with 1 Axes>"
      ]
     },
     "metadata": {
      "needs_background": "light"
     },
     "output_type": "display_data"
    }
   ],
   "source": [
    "a = gt_x-x0-10\n",
    "\n",
    "plt.imshow(mask[:,np.append(a,[a[-1] + i for i in range(1,10)])])\n",
    "#plt.plot(gt_x-x0,gt_y)"
   ]
  },
  {
   "cell_type": "code",
   "execution_count": 14,
   "metadata": {},
   "outputs": [],
   "source": [
    "mask_tiled       = np.concatenate(   [mask[:,np.append(a,[a[-1] + i for i in range(1,10)])]]*4,axis=1)"
   ]
  },
  {
   "cell_type": "code",
   "execution_count": 15,
   "metadata": {},
   "outputs": [
    {
     "data": {
      "text/plain": [
       "<matplotlib.image.AxesImage at 0x1c5846bb700>"
      ]
     },
     "execution_count": 15,
     "metadata": {},
     "output_type": "execute_result"
    },
    {
     "data": {
      "image/png": "[encoded data removed]",
      "text/plain": [
       "<Figure size 432x288 with 1 Axes>"
      ]
     },
     "metadata": {
      "needs_background": "light"
     },
     "output_type": "display_data"
    }
   ],
   "source": [
    "# COMENTAR SI ESTO PUEDE SER SIGNIFICATIVO!!!\n",
    "\n",
    "plt.imshow(mask_tiled)"
   ]
  },
  {
   "cell_type": "code",
   "execution_count": null,
   "metadata": {},
   "outputs": [],
   "source": []
  }
 ],
 "metadata": {
  "kernelspec": {
   "display_name": "Python 3 (ipykernel)",
   "language": "python",
   "name": "python3"
  },
  "language_info": {
   "codemirror_mode": {
    "name": "ipython",
    "version": 3
   },
   "file_extension": ".py",
   "mimetype": "text/x-python",
   "name": "python",
   "nbconvert_exporter": "python",
   "pygments_lexer": "ipython3",
   "version": "3.9.0"
  }
 },
 "nbformat": 4,
 "nbformat_minor": 2
}
